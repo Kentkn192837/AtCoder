{
 "cells": [
  {
   "cell_type": "raw",
   "id": "cf5836db-6914-42a0-bd38-a0d84ed1b888",
   "metadata": {},
   "source": [
    "3\n",
    "10 40 70\n",
    "20 50 80\n",
    "30 60 90"
   ]
  },
  {
   "cell_type": "code",
   "execution_count": 1,
   "id": "bc65ec3e-9d24-48da-8bde-62fa9b825443",
   "metadata": {},
   "outputs": [
    {
     "name": "stdin",
     "output_type": "stream",
     "text": [
      " 3\n",
      " 10 40 70\n",
      " 20 50 80\n",
      " 30 60 90\n"
     ]
    }
   ],
   "source": [
    "n = int(input())\n",
    "abc = [list(map(int, input().split())) for _ in range(n)]"
   ]
  },
  {
   "cell_type": "code",
   "execution_count": 2,
   "id": "402c511a-d7ca-4a57-b005-99cb0a2e7024",
   "metadata": {},
   "outputs": [
    {
     "data": {
      "text/plain": [
       "[[10, 40, 70], [20, 50, 80], [30, 60, 90]]"
      ]
     },
     "execution_count": 2,
     "metadata": {},
     "output_type": "execute_result"
    }
   ],
   "source": [
    "abc"
   ]
  },
  {
   "cell_type": "code",
   "execution_count": 3,
   "id": "f2c33bee-81b3-4bee-95b0-c01131b71a97",
   "metadata": {},
   "outputs": [
    {
     "data": {
      "text/plain": [
       "70"
      ]
     },
     "execution_count": 3,
     "metadata": {},
     "output_type": "execute_result"
    }
   ],
   "source": [
    "max(abc[0])"
   ]
  },
  {
   "cell_type": "code",
   "execution_count": 4,
   "id": "c75507d9-dec9-4c12-b5db-4a404fb867dd",
   "metadata": {},
   "outputs": [
    {
     "data": {
      "text/plain": [
       "[[0, 0, 0], [10, 40, 70], [20, 50, 80], [30, 60, 90]]"
      ]
     },
     "execution_count": 4,
     "metadata": {},
     "output_type": "execute_result"
    }
   ],
   "source": [
    "abc.insert(0, [0, 0, 0])\n",
    "abc"
   ]
  },
  {
   "cell_type": "code",
   "execution_count": null,
   "id": "0b888e77-7ccf-4e0f-9f78-98830008eafb",
   "metadata": {},
   "outputs": [],
   "source": []
  }
 ],
 "metadata": {
  "kernelspec": {
   "display_name": "Python 3",
   "language": "python",
   "name": "python3"
  },
  "language_info": {
   "codemirror_mode": {
    "name": "ipython",
    "version": 3
   },
   "file_extension": ".py",
   "mimetype": "text/x-python",
   "name": "python",
   "nbconvert_exporter": "python",
   "pygments_lexer": "ipython3",
   "version": "3.8.5"
  }
 },
 "nbformat": 4,
 "nbformat_minor": 5
}
