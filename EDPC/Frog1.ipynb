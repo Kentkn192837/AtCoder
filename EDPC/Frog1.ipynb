{
 "cells": [
  {
   "cell_type": "markdown",
   "id": "8bb3a7c5-f1fc-447b-813b-50cf5655d429",
   "metadata": {},
   "source": [
    "### テストケース\n",
    "4<br>\n",
    "10 30 40 20\n",
    "\n",
    "2<br>\n",
    "10 10\n",
    "\n",
    "6<br>\n",
    "30 10 60 10 60 50"
   ]
  },
  {
   "cell_type": "code",
   "execution_count": 1,
   "id": "7e5de9f9-09c2-4e7c-bf07-b6a51a63d56d",
   "metadata": {},
   "outputs": [
    {
     "name": "stdin",
     "output_type": "stream",
     "text": [
      " 4\n",
      " 10 30 40 20\n"
     ]
    }
   ],
   "source": [
    "n = int(input())\n",
    "h = list(map(int, input().split()))"
   ]
  },
  {
   "cell_type": "code",
   "execution_count": 2,
   "id": "6c9a197f-b6cb-42f3-bc2f-bda6399cb41b",
   "metadata": {},
   "outputs": [
    {
     "data": {
      "text/plain": [
       "[10, 30, 40, 20]"
      ]
     },
     "execution_count": 2,
     "metadata": {},
     "output_type": "execute_result"
    }
   ],
   "source": [
    "h"
   ]
  },
  {
   "cell_type": "code",
   "execution_count": 3,
   "id": "91d53074-0a11-4f41-8123-c1c7402f438f",
   "metadata": {},
   "outputs": [],
   "source": [
    "dp = [0]"
   ]
  },
  {
   "cell_type": "code",
   "execution_count": 4,
   "id": "b1e387f0-3110-4f21-ab53-ece8703f1ae7",
   "metadata": {},
   "outputs": [
    {
     "data": {
      "text/plain": [
       "[0, 20]"
      ]
     },
     "execution_count": 4,
     "metadata": {},
     "output_type": "execute_result"
    }
   ],
   "source": [
    "dp.append(abs(h[1] - h[0]))\n",
    "dp"
   ]
  },
  {
   "cell_type": "code",
   "execution_count": 5,
   "id": "c316d58e-0f2f-49da-be54-eaf82c54989e",
   "metadata": {},
   "outputs": [
    {
     "data": {
      "text/plain": [
       "30"
      ]
     },
     "execution_count": 5,
     "metadata": {},
     "output_type": "execute_result"
    }
   ],
   "source": [
    "abs(h[2] - h[0])"
   ]
  },
  {
   "cell_type": "code",
   "execution_count": 6,
   "id": "443d6b0c-cb25-4eea-8aa3-61498fcc44e7",
   "metadata": {},
   "outputs": [
    {
     "data": {
      "text/plain": [
       "30"
      ]
     },
     "execution_count": 6,
     "metadata": {},
     "output_type": "execute_result"
    }
   ],
   "source": [
    "dp[1] + abs(h[2] - h[1])"
   ]
  },
  {
   "cell_type": "code",
   "execution_count": 7,
   "id": "ad05de7c-ee10-4f21-8bc5-0bc99ee5c9c3",
   "metadata": {},
   "outputs": [
    {
     "data": {
      "text/plain": [
       "30"
      ]
     },
     "execution_count": 7,
     "metadata": {},
     "output_type": "execute_result"
    }
   ],
   "source": [
    "min(abs(h[2] - h[0]), dp[1] + abs(h[2] - h[1]))"
   ]
  },
  {
   "cell_type": "code",
   "execution_count": 8,
   "id": "5e33dd3c-b402-4de1-8141-f6b9432b0872",
   "metadata": {},
   "outputs": [
    {
     "data": {
      "text/plain": [
       "[0, 20, 30, 30]"
      ]
     },
     "execution_count": 8,
     "metadata": {},
     "output_type": "execute_result"
    }
   ],
   "source": [
    "for i in range(2, len(h)):\n",
    "    dp.append( min(abs(h[i] - h[i - 2]) + dp[i - 2], abs(h[i] - h[i - 1]) + dp[i - 1]) )\n",
    "dp"
   ]
  },
  {
   "cell_type": "code",
   "execution_count": 9,
   "id": "f6b3680b-6aea-4c60-830d-17125c9ba427",
   "metadata": {},
   "outputs": [
    {
     "data": {
      "text/plain": [
       "30"
      ]
     },
     "execution_count": 9,
     "metadata": {},
     "output_type": "execute_result"
    }
   ],
   "source": [
    "dp[-1]"
   ]
  }
 ],
 "metadata": {
  "kernelspec": {
   "display_name": "Python 3",
   "language": "python",
   "name": "python3"
  },
  "language_info": {
   "codemirror_mode": {
    "name": "ipython",
    "version": 3
   },
   "file_extension": ".py",
   "mimetype": "text/x-python",
   "name": "python",
   "nbconvert_exporter": "python",
   "pygments_lexer": "ipython3",
   "version": "3.8.5"
  }
 },
 "nbformat": 4,
 "nbformat_minor": 5
}
