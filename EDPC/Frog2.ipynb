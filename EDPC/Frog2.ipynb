{
 "cells": [
  {
   "cell_type": "raw",
   "id": "8bbda9f9-9f0c-4cfa-b62f-7e004056328d",
   "metadata": {},
   "source": [
    "10 4\n",
    "40 10 20 70 80 10 20 70 80 60"
   ]
  },
  {
   "cell_type": "code",
   "execution_count": 1,
   "id": "3690b9b3-c5f6-47e3-bea5-f86e60196908",
   "metadata": {},
   "outputs": [
    {
     "name": "stdin",
     "output_type": "stream",
     "text": [
      " 10 4\n",
      " 40 10 20 70 80 10 20 70 80 60\n"
     ]
    }
   ],
   "source": [
    "n, k = map(int, input().split())\n",
    "h = list(map(int, input().split()))"
   ]
  },
  {
   "cell_type": "code",
   "execution_count": 2,
   "id": "aa1f7537-44b1-4582-a728-2541f8f26342",
   "metadata": {},
   "outputs": [
    {
     "data": {
      "text/plain": [
       "[40, 10, 20, 70, 80, 10, 20, 70, 80, 60]"
      ]
     },
     "execution_count": 2,
     "metadata": {},
     "output_type": "execute_result"
    }
   ],
   "source": [
    "h"
   ]
  },
  {
   "cell_type": "code",
   "execution_count": 3,
   "id": "af7d373d-47c1-4e62-9ab1-cf0cc230fa6e",
   "metadata": {},
   "outputs": [
    {
     "data": {
      "text/plain": [
       "30"
      ]
     },
     "execution_count": 3,
     "metadata": {},
     "output_type": "execute_result"
    }
   ],
   "source": [
    "abs(h[1] - h[0])"
   ]
  },
  {
   "cell_type": "code",
   "execution_count": 4,
   "id": "1f1dc8ac-a4e2-4814-ab82-2cf18952fd77",
   "metadata": {},
   "outputs": [
    {
     "data": {
      "text/plain": [
       "[0, 1]"
      ]
     },
     "execution_count": 4,
     "metadata": {},
     "output_type": "execute_result"
    }
   ],
   "source": [
    "list(range(2))"
   ]
  },
  {
   "cell_type": "code",
   "execution_count": 5,
   "id": "15993d93-b1ae-4992-90c5-4be33418b1bb",
   "metadata": {},
   "outputs": [
    {
     "data": {
      "text/plain": [
       "[1, 0]"
      ]
     },
     "execution_count": 5,
     "metadata": {},
     "output_type": "execute_result"
    }
   ],
   "source": [
    "list(reversed(range(2)))"
   ]
  },
  {
   "cell_type": "code",
   "execution_count": 6,
   "id": "2242c392-5ff1-4296-b56a-9e32420a1948",
   "metadata": {},
   "outputs": [
    {
     "data": {
      "text/plain": [
       "[2, 1]"
      ]
     },
     "execution_count": 6,
     "metadata": {},
     "output_type": "execute_result"
    }
   ],
   "source": [
    "list(range(2, 0, -1))"
   ]
  },
  {
   "cell_type": "code",
   "execution_count": 7,
   "id": "b56f2d61-4b48-4b12-8c31-2d139720a4ad",
   "metadata": {},
   "outputs": [
    {
     "data": {
      "text/plain": [
       "[4, 3, 2, 1]"
      ]
     },
     "execution_count": 7,
     "metadata": {},
     "output_type": "execute_result"
    }
   ],
   "source": [
    "list(range(k, 0, -1))"
   ]
  },
  {
   "cell_type": "code",
   "execution_count": 8,
   "id": "e80b7e5d-f8ef-4aec-ac7f-560362836661",
   "metadata": {},
   "outputs": [
    {
     "data": {
      "text/plain": [
       "4"
      ]
     },
     "execution_count": 8,
     "metadata": {},
     "output_type": "execute_result"
    }
   ],
   "source": [
    "k"
   ]
  },
  {
   "cell_type": "code",
   "execution_count": 9,
   "id": "73bb8e70-af5e-4c56-bfd7-fcfb931f72f6",
   "metadata": {},
   "outputs": [
    {
     "name": "stdout",
     "output_type": "stream",
     "text": [
      "j: 4\n",
      "j: 3\n",
      "j: 2\n",
      "j: 1\n",
      "cand: [20, 40]\n",
      "dp:   [0, 30, 20] \n",
      "\n",
      "j: 4\n",
      "j: 3\n",
      "j: 2\n",
      "j: 1\n",
      "cand: [30, 90, 70]\n",
      "dp:   [0, 30, 20, 30] \n",
      "\n",
      "j: 4\n",
      "j: 3\n",
      "j: 2\n",
      "j: 1\n",
      "cand: [40, 100, 80, 40]\n",
      "dp:   [0, 30, 20, 30, 40] \n",
      "\n",
      "j: 4\n",
      "j: 3\n",
      "j: 2\n",
      "j: 1\n",
      "cand: [30, 30, 90, 110]\n",
      "dp:   [0, 30, 20, 30, 40, 30] \n",
      "\n",
      "j: 4\n",
      "j: 3\n",
      "j: 2\n",
      "j: 1\n",
      "cand: [20, 80, 100, 40]\n",
      "dp:   [0, 30, 20, 30, 40, 30, 20] \n",
      "\n",
      "j: 4\n",
      "j: 3\n",
      "j: 2\n",
      "j: 1\n",
      "cand: [30, 50, 90, 70]\n",
      "dp:   [0, 30, 20, 30, 40, 30, 20, 30] \n",
      "\n",
      "j: 4\n",
      "j: 3\n",
      "j: 2\n",
      "j: 1\n",
      "cand: [40, 100, 80, 40]\n",
      "dp:   [0, 30, 20, 30, 40, 30, 20, 30, 40] \n",
      "\n",
      "j: 4\n",
      "j: 3\n",
      "j: 2\n",
      "j: 1\n",
      "cand: [80, 60, 40, 60]\n",
      "dp:   [0, 30, 20, 30, 40, 30, 20, 30, 40, 40] \n",
      "\n"
     ]
    },
    {
     "data": {
      "text/plain": [
       "[0, 30, 20, 30, 40, 30, 20, 30, 40, 40]"
      ]
     },
     "execution_count": 9,
     "metadata": {},
     "output_type": "execute_result"
    }
   ],
   "source": [
    "dp = [0]\n",
    "dp.append(abs(h[1] - h[0]))\n",
    "for i in range(2, len(h)):\n",
    "    cand = []\n",
    "    for j in range(k, 0, -1):\n",
    "        print(\"j:\", j)\n",
    "        if i - j >= 0:\n",
    "            cand.append(abs(h[i] - h[i - j]) + dp[i - j])\n",
    "    dp.append(min(cand))\n",
    "    print(\"cand:\", cand)\n",
    "    print(\"dp:  \", dp, \"\\n\")\n",
    "dp"
   ]
  },
  {
   "cell_type": "code",
   "execution_count": 12,
   "id": "9da9f749-23ff-48d6-96d9-dd28d49bfec7",
   "metadata": {},
   "outputs": [
    {
     "data": {
      "text/plain": [
       "40"
      ]
     },
     "execution_count": 12,
     "metadata": {},
     "output_type": "execute_result"
    }
   ],
   "source": [
    "dp[-1]"
   ]
  }
 ],
 "metadata": {
  "kernelspec": {
   "display_name": "Python 3",
   "language": "python",
   "name": "python3"
  },
  "language_info": {
   "codemirror_mode": {
    "name": "ipython",
    "version": 3
   },
   "file_extension": ".py",
   "mimetype": "text/x-python",
   "name": "python",
   "nbconvert_exporter": "python",
   "pygments_lexer": "ipython3",
   "version": "3.8.5"
  }
 },
 "nbformat": 4,
 "nbformat_minor": 5
}
